{
 "cells": [
  {
   "cell_type": "markdown",
   "metadata": {},
   "source": [
    "## QUIZ 3\n",
    "\n",
    "Autor: Danilo Aparecido Namitala - 202011125\n",
    "\n",
    "fonte: https://github.com/DaniloNamitala/rede_neural"
   ]
  },
  {
   "cell_type": "markdown",
   "metadata": {
    "notebookRunGroups": {
     "groupValue": ""
    }
   },
   "source": [
    "### Bibliiotecas"
   ]
  },
  {
   "cell_type": "code",
   "execution_count": 1,
   "metadata": {},
   "outputs": [],
   "source": [
    "import math\n",
    "import numpy as np\n",
    "from matplotlib import pyplot as plt"
   ]
  },
  {
   "cell_type": "markdown",
   "metadata": {},
   "source": [
    "### Funções de Ativação"
   ]
  },
  {
   "cell_type": "code",
   "execution_count": 2,
   "metadata": {},
   "outputs": [],
   "source": [
    "def relu(x):\n",
    "    return max(0, x)\n",
    "\n",
    "def relu_derivative(x):\n",
    "    if x > 0:\n",
    "        return 1\n",
    "    return 0\n",
    "\n",
    "def sigmoid(x):\n",
    "    return 1 / (1 + math.exp(-x))\n",
    "\n",
    "def sigmoid_derivative(x):\n",
    "    return x * (1 - x)"
   ]
  },
  {
   "cell_type": "markdown",
   "metadata": {},
   "source": [
    "### Estrutura de Dados"
   ]
  },
  {
   "cell_type": "code",
   "execution_count": 20,
   "metadata": {},
   "outputs": [],
   "source": [
    "# Neurons a1 to a5 represented by indexes 0 to 4\n",
    "v = [0, 0, 0, 0, 0]\n",
    "e = [0, 0, 0, 0, 0]\n",
    "w = np.array([\n",
    "    [0.,  0.,  0.,   0., 0.],\n",
    "    [3.,  0.,  0.,   0., 0.],\n",
    "    [-4.,  1.,  0.,   0., 0.],\n",
    "    [-1., -3.,  0.,   0., 0.], \n",
    "    [0.,  0.,  2., -10., 0.], \n",
    "])\n",
    "b = np.array([0., 0., 0., 0., 0.])  # Bias terms\n",
    "f = [sigmoid, relu, sigmoid, sigmoid, None]\n",
    "fd = [sigmoid_derivative, relu_derivative, sigmoid_derivative, sigmoid_derivative, None]"
   ]
  },
  {
   "cell_type": "markdown",
   "metadata": {},
   "source": [
    "### Simular a Rede Neural"
   ]
  },
  {
   "cell_type": "code",
   "execution_count": 31,
   "metadata": {},
   "outputs": [],
   "source": [
    "def forward(entry):\n",
    "    v[-1] = entry\n",
    "    for i in range(len(v) - 2, -1, -1):\n",
    "        v[i] = 0\n",
    "        for j in range(len(v)):\n",
    "            v[i] += v[j] * w[j][i]\n",
    "        v[i] += b[i]  # Add bias term\n",
    "        v[i] = f[i](v[i])\n",
    "\n",
    "def calculate_error(expected):\n",
    "    global e\n",
    "    e = [0, 0, 0, 0, 0]\n",
    "    e[0] = (v[0] - expected) * fd[0](v[0])\n",
    "\n",
    "    for i in range(1, len(v) - 1):\n",
    "        for j in range(len(v)):\n",
    "            e[i] += e[j] * w[j][i]\n",
    "        e[i] = e[i] * fd[i](v[i])\n",
    "\n",
    "def update_weights():\n",
    "    for i in range(len(w)):\n",
    "        for j in range(len(w[i])):\n",
    "            w[j][i] = w[j][i] - 0.1 * e[i] * v[j]\n",
    "        b[i] = b[i] - 0.1 * e[i]  # Update bias term"
   ]
  },
  {
   "cell_type": "code",
   "execution_count": 32,
   "metadata": {},
   "outputs": [
    {
     "name": "stdout",
     "output_type": "stream",
     "text": [
      "Resultados para x = 0.0 y = 0.5\n",
      "a1\ta2\ta3\ta4\ta5\n",
      "----------------------------------------\n",
      "0.076\t0.000\t0.500\t0.500\t0.000\n",
      "----------------------------------------\n",
      "e1\te2\te3\te4\te5\n",
      "----------------------------------------\n",
      "-0.030\t0.000\t0.000\t0.000\t0.000\n",
      "\n",
      "\n",
      "\n",
      "\n",
      "Resultados para x = 1 y = 0.1\n",
      "a1\ta2\ta3\ta4\ta5\n",
      "----------------------------------------\n",
      "0.293\t0.881\t0.881\t0.000\t1.000\n",
      "----------------------------------------\n",
      "e1\te2\te3\te4\te5\n",
      "----------------------------------------\n",
      "0.040\t0.000\t0.000\t0.000\t0.000\n"
     ]
    }
   ],
   "source": [
    "x = 0.0\n",
    "y = 0.5\n",
    "print(\"Resultados para x = 0.0 y = 0.5\")\n",
    "\n",
    "forward(x)\n",
    "print(\"a1\\ta2\\ta3\\ta4\\ta5\")\n",
    "print(\"-\"*40)\n",
    "print(\"\\t\".join([f\"{v[i]:.3f}\" for i in range(len(v))]))\n",
    "calculate_error(y)\n",
    "print(\"-\"*40)\n",
    "print(f\"e1\\te2\\te3\\te4\\te5\")\n",
    "print(\"-\"*40)\n",
    "print(\"\\t\".join([f\"{e[i]:.3f}\" for i in range(len(e))]))\n",
    "\n",
    "print(\"\\n\\n\\n\")\n",
    "\n",
    "x1 = 1\n",
    "y1 = 0.1\n",
    "print(\"Resultados para x = 1 y = 0.1\")\n",
    "\n",
    "forward(x1)\n",
    "print(\"a1\\ta2\\ta3\\ta4\\ta5\")\n",
    "print(\"-\"*40)\n",
    "print(\"\\t\".join([f\"{v[i]:.3f}\" for i in range(len(v))]))\n",
    "calculate_error(y1)\n",
    "print(\"-\"*40)\n",
    "print(f\"e1\\te2\\te3\\te4\\te5\")\n",
    "print(\"-\"*40)\n",
    "print(\"\\t\".join([f\"{e[i]:.3f}\" for i in range(len(e))]))"
   ]
  },
  {
   "cell_type": "markdown",
   "metadata": {},
   "source": [
    "### Treinamento"
   ]
  },
  {
   "cell_type": "code",
   "execution_count": 38,
   "metadata": {},
   "outputs": [],
   "source": [
    "def train(entries, outs):\n",
    "    for i in range(2*9999):\n",
    "        for (en, ex) in zip(entries, outs):\n",
    "            forward(en)\n",
    "            calculate_error(ex)\n",
    "            update_weights()\n",
    "\n",
    "def predict(entry):\n",
    "    forward(entry)\n",
    "    return v[0]"
   ]
  },
  {
   "cell_type": "code",
   "execution_count": 35,
   "metadata": {},
   "outputs": [],
   "source": [
    "entries = [-3.0, -2.0, -1.0, -0.5, 0.0, 0.5, 1.0, 1.5, 2.0, 3.0]\n",
    "outs = [0.73212, 0.7339, 0.7838, 0.8903, 0.9820, 0.8114, 0.5937, 0.5219, 0.5049, 0.5002]\n",
    "\n",
    "train(entries, outs)"
   ]
  },
  {
   "cell_type": "code",
   "execution_count": 70,
   "metadata": {},
   "outputs": [
    {
     "data": {
      "text/plain": [
       "<matplotlib.legend.Legend at 0x7f14c24e3850>"
      ]
     },
     "execution_count": 70,
     "metadata": {},
     "output_type": "execute_result"
    },
    {
     "data": {
      "image/png": "[encoded data removed]",
      "text/plain": [
       "<Figure size 640x480 with 1 Axes>"
      ]
     },
     "metadata": {},
     "output_type": "display_data"
    }
   ],
   "source": [
    "test_result = [predict(x) for x in entries]\n",
    "\n",
    "plt.plot(entries, outs, 'bo')\n",
    "plt.plot(entries, test_result, 'ro')\n",
    "plt.legend(['Esperado', 'Obtido'])"
   ]
  }
 ],
 "metadata": {
  "kernelspec": {
   "display_name": "Python 3",
   "language": "python",
   "name": "python3"
  },
  "language_info": {
   "codemirror_mode": {
    "name": "ipython",
    "version": 3
   },
   "file_extension": ".py",
   "mimetype": "text/x-python",
   "name": "python",
   "nbconvert_exporter": "python",
   "pygments_lexer": "ipython3",
   "version": "3.11.0"
  },
  "orig_nbformat": 4
 },
 "nbformat": 4,
 "nbformat_minor": 2
}
